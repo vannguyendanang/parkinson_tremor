{
 "cells": [
  {
   "cell_type": "markdown",
   "id": "d0421357",
   "metadata": {},
   "source": [
    "<p style=\"text-align: center;\"><b>PARKINSON ANALYSIS</b></p>"
   ]
  },
  {
   "cell_type": "code",
   "execution_count": 1,
   "id": "1fe1ea09",
   "metadata": {},
   "outputs": [],
   "source": [
    "# import some libraries\n",
    "import numpy as np\n",
    "import matplotlib.pyplot as plt\n",
    "import pandas as pd\n",
    "from sklearn.preprocessing import StandardScaler\n",
    "from sklearn.decomposition import PCA\n",
    "from sklearn.impute import SimpleImputer\n",
    "from sklearn.model_selection import train_test_split\n",
    "import matplotlib.pyplot as plt\n",
    "from sklearn.cluster import KMeans\n",
    "import seaborn as sns\n",
    "from xgboost import XGBClassifier\n",
    "from sklearn.metrics import accuracy_score\n",
    "from sklearn.metrics import confusion_matrix, classification_report\n",
    "from sklearn.preprocessing import LabelEncoder\n",
    "import glob\n",
    "import os\n",
    "from DataStructureGenerator import DataStructureGenerator"
   ]
  },
  {
   "cell_type": "code",
   "execution_count": null,
   "id": "0a57d754",
   "metadata": {},
   "outputs": [
    {
     "name": "stdout",
     "output_type": "stream",
     "text": [
      "       Timestamp (ms)  Accel X (g)  Accel Y (g)  Accel Z (g)\n",
      "13398          476030    -0.250431    -0.004334     1.008377\n",
      "13399          476062    -0.253361     0.000061     1.008865\n",
      "13400          476093    -0.249454     0.000549     1.003006\n",
      "13401          476125    -0.253849    -0.003357     1.020584\n",
      "13402          476157    -0.253849     0.000549     1.028885\n"
     ]
    }
   ],
   "source": [
    "# file_path = r\"C:\\FDS\\Parkinson\\FullDataSet_PD-BioStampRC21\\005\\ll_ID005Accel.csv\"\n",
    "# # Read the CSV file\n",
    "# df_sensor = pd.read_csv(file_path)\n",
    "# # Display the first few rows of the DataFrame\n",
    "# filtered_sensor_data = df_sensor[(df_sensor['Timestamp (ms)'] >= 476023) & (df_sensor['Timestamp (ms)'] <= 493809 )]\n",
    "# print(filtered_sensor_data.head())"
   ]
  },
  {
   "cell_type": "code",
   "execution_count": 3,
   "id": "48c34842",
   "metadata": {},
   "outputs": [],
   "source": [
    "# base_path = r\"C:\\FDS\\Parkinson\"\n",
    "# clinic_folder = \"Clinic_Data_PD-BioStampRC21\"\n",
    "# activity_folder = \"FullDataSet_PD-BioStampRC21\"\n",
    "# dataGenerator = DataStructureGenerator(base_path, clinic_folder, activity_folder)\n",
    "# try :\n",
    "#     dataAllParticipants = dataGenerator.generate_data_structure()\n",
    "\n",
    "#     # access the event data for each participant\n",
    "#     for participant_id, participant_data in dataAllParticipants.items():\n",
    "#         print(f\"Participant ID: {participant_id}\")\n",
    "#         # Access the clinic data\n",
    "#         clinic_data = participant_data['clinical']\n",
    "#         print(\"Clinic Data:\")\n",
    "#         print(clinic_data)\n",
    "\n",
    "#         # Access the event and sensor data\n",
    "#         print(\"Event and Sensor Data:\")\n",
    "#         for index, row in participant_data['activity'].iterrows():\n",
    "#             print(f\"Event Type: {row['event type']}\")\n",
    "#             print(f\"Start Timestamp (ms): {row['start timestamp (ms)']}\")\n",
    "#             print(f\"Stop Timestamp (ms): {row['stop timestamp (ms)']}\")\n",
    "#             print(f\"Activity Attribute: {row['activity attribute']}\")\n",
    "#             for sensor in row['sensor data']:\n",
    "#                 print(sensor['sensor name'])\n",
    "#                 print(sensor['sensor data'].head())\n",
    "\n",
    "# except Exception as e:\n",
    "#     print(f\"An error occurred: {e}\")\n"
   ]
  },
  {
   "cell_type": "code",
   "execution_count": 4,
   "id": "c2000cda",
   "metadata": {},
   "outputs": [
    {
     "name": "stderr",
     "output_type": "stream",
     "text": [
      "Loading participants:   0%|          | 0/1 [00:00<?, ?it/s]"
     ]
    },
    {
     "name": "stderr",
     "output_type": "stream",
     "text": [
      "Loading participants: 100%|██████████| 1/1 [07:48<00:00, 468.53s/it]"
     ]
    },
    {
     "name": "stdout",
     "output_type": "stream",
     "text": [
      "Participant ID: 010\n",
      "Event and Sensor Data:\n",
      "Event Type: UPDRS 3.17 - Rest Tremor Amplitude\n",
      "Start Timestamp (ms): 876164\n",
      "Stop Timestamp (ms): 877650\n",
      "Activity Attribute: Medication: OFF, Area of the body: RUE\n",
      "left_arm\n",
      "       Timestamp (ms)  Accel X (g)  Accel Y (g)  Accel Z (g)       Mag\n",
      "26993          876182    -0.311955     0.549386     0.681224  0.929089\n",
      "26994          876215    -0.318303     0.570871     0.737377  0.985360\n",
      "26995          876247    -0.334417     0.613352     0.740307  1.017884\n",
      "26996          876279    -0.289982     0.616770     0.701244  0.977874\n",
      "26997          876311    -0.286076     0.582101     0.719799  0.968912\n",
      "right_arm\n",
      "       Timestamp (ms)  Accel X (g)  Accel Y (g)  Accel Z (g)       Mag\n",
      "27566          876187    -0.291936    -0.727977     0.554757  0.960694\n",
      "27567          876219    -0.238712    -0.764111     0.437568  0.912313\n",
      "27568          876251    -0.232853    -0.764111     0.532296  0.959909\n",
      "27569          876283    -0.308049    -0.778271     0.524483  0.987767\n",
      "27570          876315    -0.287541    -0.836378     0.564523  1.049235\n",
      "Participant ID: 010\n",
      "Event and Sensor Data:\n",
      "Event Type: UPDRS 3.17 - Rest Tremor Amplitude\n",
      "Start Timestamp (ms): 896405\n",
      "Stop Timestamp (ms): 899367\n",
      "Activity Attribute: Medication: OFF, Area of the body: RLE\n",
      "left_arm\n",
      "       Timestamp (ms)  Accel X (g)  Accel Y (g)  Accel Z (g)       Mag\n",
      "27622          896432    -0.311955     0.637766     0.729564  1.018001\n",
      "27623          896465    -0.312932     0.637766     0.721752  1.012718\n",
      "27624          896497    -0.330999     0.644114     0.738842  1.034568\n",
      "27625          896529    -0.332952     0.643137     0.744213  1.038429\n",
      "27626          896561    -0.327581     0.635813     0.728588  1.020984\n",
      "right_arm\n",
      "       Timestamp (ms)  Accel X (g)  Accel Y (g)  Accel Z (g)       Mag\n",
      "28203          896435    -0.279728    -0.751415     0.701732  1.065505\n",
      "28204          896467    -0.170352    -0.784619     0.508370  0.950308\n",
      "28205          896498    -0.190372    -0.837842     0.573312  1.032912\n",
      "28206          896530    -0.289982    -0.748486     0.569406  0.984146\n",
      "28207          896562    -0.249454    -0.747021     0.606027  0.993749\n",
      "Participant ID: 010\n",
      "Event and Sensor Data:\n",
      "Event Type: UPDRS 3.17 - Rest Tremor Amplitude\n",
      "Start Timestamp (ms): 9746801\n",
      "Stop Timestamp (ms): 9748022\n",
      "Activity Attribute: Medication: ON, Area of the body: RLE\n",
      "left_arm\n",
      "        Timestamp (ms)  Accel X (g)  Accel Y (g)  Accel Z (g)       Mag\n",
      "302762         9746817    -0.344671     0.556222     0.787182  1.023639\n",
      "302763         9746849    -0.344671     0.556222     0.769604  1.010184\n",
      "302764         9746881    -0.346624     0.543526     0.798413  1.026174\n",
      "302765         9746913    -0.358343     0.541085     0.799878  1.030042\n",
      "302766         9746945    -0.344671     0.559640     0.800855  1.036032\n",
      "right_arm\n",
      "        Timestamp (ms)  Accel X (g)  Accel Y (g)  Accel Z (g)       Mag\n",
      "306621         9746807    -0.305608    -0.664988     0.669505  0.991888\n",
      "306622         9746839    -0.313420    -0.595163     0.696849  0.968530\n",
      "306623         9746870    -0.288029    -0.676219     0.652415  0.982791\n",
      "306624         9746902    -0.328557    -0.642039     0.729564  1.025879\n",
      "306625         9746934    -0.301701    -0.655222     0.708080  1.010800\n",
      "Participant ID: 010\n",
      "Event and Sensor Data:\n",
      "Event Type: UPDRS 3.17 - Rest Tremor Amplitude\n",
      "Start Timestamp (ms): 9758505\n",
      "Stop Timestamp (ms): 9759702\n",
      "Activity Attribute: Medication: ON, Area of the body: RUE\n",
      "left_arm\n",
      "        Timestamp (ms)  Accel X (g)  Accel Y (g)  Accel Z (g)       Mag\n",
      "303126         9758527    -0.352972     0.560616     0.783764  1.026239\n",
      "303127         9758560    -0.344182     0.581613     0.773999  1.027526\n",
      "303128         9758592    -0.330999     0.571359     0.784741  1.025587\n",
      "303129         9758624    -0.345159     0.550362     0.804273  1.033870\n",
      "303130         9758656    -0.349065     0.532784     0.786694  1.012222\n",
      "right_arm\n",
      "        Timestamp (ms)  Accel X (g)  Accel Y (g)  Accel Z (g)       Mag\n",
      "306989         9758516    -0.313909    -0.647410     0.700267  1.004018\n",
      "306990         9758548    -0.262150    -0.656199     0.683665  0.983218\n",
      "306991         9758580    -0.236271    -0.681102     0.684154  0.993876\n",
      "306992         9758612    -0.272404    -0.701610     0.673411  1.009922\n",
      "306993         9758644    -0.340764    -0.666941     0.687083  1.016373\n"
     ]
    },
    {
     "name": "stderr",
     "output_type": "stream",
     "text": [
      "\n"
     ]
    }
   ],
   "source": [
    "# show data of event type = 'UPDRS 3.17 - Rest Tremor Amplitude'\n",
    "base_path = r\"C:\\FDS\\Parkinson\"\n",
    "clinic_folder = \"Clinic_Data_PD-BioStampRC21\"\n",
    "activity_folder = \"FullDataSet_PD-BioStampRC21\"\n",
    "dataGenerator = DataStructureGenerator(base_path, clinic_folder, activity_folder)\n",
    "try :\n",
    "    dataAllParticipants = dataGenerator.generate_data_structure()\n",
    "\n",
    "    # access the event data for each participant\n",
    "    for participant_id, participant_data in dataAllParticipants.items():\n",
    "        # print(f\"Participant ID: {participant_id}\")\n",
    "        # Access the clinic data\n",
    "        clinic_data = participant_data['clinical']\n",
    "        # print(\"Clinic Data:\")\n",
    "        # print(clinic_data)\n",
    "\n",
    "        # Access the event and sensor data\n",
    "        # print(\"Event and Sensor Data:\")\n",
    "        for index, row in participant_data['activity'].iterrows():\n",
    "            if row['event type'] == 'UPDRS 3.17 - Rest Tremor Amplitude':\n",
    "                print(f\"Participant ID: {participant_id}\")\n",
    "                print(\"Event and Sensor Data:\")\n",
    "                print(f\"Event Type: {row['event type']}\")\n",
    "                print(f\"Start Timestamp (ms): {row['start timestamp (ms)']}\")\n",
    "                print(f\"Stop Timestamp (ms): {row['stop timestamp (ms)']}\")\n",
    "                print(f\"Activity Attribute: {row['activity attribute']}\")\n",
    "                for sensor in row['sensor data']:\n",
    "                    print(sensor['sensor name'])\n",
    "                    print(sensor['sensor data'].head())\n",
    "            \n",
    "\n",
    "except Exception as e:\n",
    "    print(f\"An error occurred: {e}\")"
   ]
  },
  {
   "cell_type": "code",
   "execution_count": null,
   "id": "468ebcc5",
   "metadata": {},
   "outputs": [],
   "source": [
    "# Build dataset for training event type 'UPDRS 3.17 - Rest Tremor Amplitude'\n",
    "# Dataset will include columns participants, side, medication, "
   ]
  }
 ],
 "metadata": {
  "kernelspec": {
   "display_name": "myproject",
   "language": "python",
   "name": "python3"
  },
  "language_info": {
   "codemirror_mode": {
    "name": "ipython",
    "version": 3
   },
   "file_extension": ".py",
   "mimetype": "text/x-python",
   "name": "python",
   "nbconvert_exporter": "python",
   "pygments_lexer": "ipython3",
   "version": "3.10.0"
  }
 },
 "nbformat": 4,
 "nbformat_minor": 5
}
